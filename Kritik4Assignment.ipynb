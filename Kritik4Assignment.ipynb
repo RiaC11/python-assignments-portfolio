{
 "cells": [
  {
   "cell_type": "code",
   "execution_count": 1,
   "id": "7b908082-eb9a-4321-82b4-6def0eabea29",
   "metadata": {},
   "outputs": [
    {
     "ename": "NameError",
     "evalue": "name 'initial_point' is not defined",
     "output_type": "error",
     "traceback": [
      "\u001b[0;31m---------------------------------------------------------------------------\u001b[0m",
      "\u001b[0;31mNameError\u001b[0m                                 Traceback (most recent call last)",
      "Cell \u001b[0;32mIn[1], line 8\u001b[0m\n\u001b[1;32m      5\u001b[0m     \u001b[38;5;28;01mdef\u001b[39;00m \u001b[38;5;21mderiv\u001b[39m(f, base_point): \u001b[38;5;66;03m#estimate the derivative of the function f at base_point using the symmetric approx\u001b[39;00m\n\u001b[1;32m      6\u001b[0m         \u001b[38;5;28;01mreturn\u001b[39;00m (f(base_point\u001b[38;5;241m+\u001b[39m\u001b[38;5;241m10\u001b[39m\u001b[38;5;241m*\u001b[39m\u001b[38;5;241m*\u001b[39m(\u001b[38;5;241m-\u001b[39m\u001b[38;5;241m10\u001b[39m))\u001b[38;5;241m-\u001b[39mf(base_point\u001b[38;5;241m-\u001b[39m\u001b[38;5;241m10\u001b[39m\u001b[38;5;241m*\u001b[39m\u001b[38;5;241m*\u001b[39m(\u001b[38;5;241m-\u001b[39m\u001b[38;5;241m10\u001b[39m)))\u001b[38;5;241m/\u001b[39m(\u001b[38;5;241m2\u001b[39m\u001b[38;5;241m*\u001b[39m\u001b[38;5;241m10\u001b[39m\u001b[38;5;241m*\u001b[39m\u001b[38;5;241m*\u001b[39m(\u001b[38;5;241m-\u001b[39m\u001b[38;5;241m10\u001b[39m))\n\u001b[0;32m----> 8\u001b[0m x_coords\u001b[38;5;241m=\u001b[39m[\u001b[43minitial_point\u001b[49m] \u001b[38;5;66;03m#This list is where you will store the x_n's\u001b[39;00m\n\u001b[1;32m      9\u001b[0m y_coords\u001b[38;5;241m=\u001b[39m[f(initial_point)] \u001b[38;5;66;03m#This list is where you will store the y_n's\u001b[39;00m\n\u001b[1;32m     12\u001b[0m \u001b[38;5;66;03m#PUT YOUR CODE HERE!\u001b[39;00m\n",
      "\u001b[0;31mNameError\u001b[0m: name 'initial_point' is not defined"
     ]
    }
   ],
   "source": [
    "import matplotlib.pyplot as plt\n",
    "import numpy as np\n",
    "\n",
    "def gradient_descent(f, learning_rate, initial_point):\n",
    "    def deriv(f, base_point): #estimate the derivative of the function f at base_point using the symmetric approx\n",
    "        return (f(base_point+10**(-10))-f(base_point-10**(-10)))/(2*10**(-10))\n",
    "    \n",
    "x_coords=[initial_point] #This list is where you will store the x_n's\n",
    "y_coords=[f(initial_point)] #This list is where you will store the y_n's\n",
    "\n",
    "\n",
    "#PUT YOUR CODE HERE!\n",
    "count=0\n",
    "max_iterations=10000\n",
    "intial_point=0.001\n",
    "\n",
    "while count<max_iterations:#we only want the while loop to iterate for a certain number of times \n",
    "    learning_rate=0.00000001\n",
    "    current_point=initial_point #for now let's set the current point as the intial point\n",
    "    current_point=current_point-learning_rate*gradient_descent #with each iteration of the loop, the current point will change \n",
    "    x_coords.append(current_point) #add the x value of the new current point to the x_n list\n",
    "    y_coords.append(f(current_point)) #add the y value of the new current point to the y_n list\n",
    "    tolerance=abs(deriv(f, base_point)-0)\n",
    "    if tolerance<0.00000001:\n",
    "        break\n",
    "    \n",
    "\n",
    "# Plotting portion. You may adjust as you please.\n",
    "plot_range=np.linspace(min(x_coords)-0.5, #a nice plot range\n",
    "max(x_coords)+0.5,10000) #to make look good\n",
    "function_range=[f(i) for i in plot_range]\n",
    "plt.plot(plot_range, function_range) #this plots the function f(x)\n",
    "plt.plot(x_coords, y_coords) #This will plot the\n",
    "#sequence of points x_n, f(x_n)\n",
    "\n",
    "\n",
    "return round(x_coords[-1],3), round(y_coords[-1],3) #returns your last x_n and y_n rounded to three decimal places"
   ]
  },
  {
   "cell_type": "code",
   "execution_count": null,
   "id": "89affd5d-78f6-4892-a0eb-c7d98016c710",
   "metadata": {},
   "outputs": [],
   "source": []
  }
 ],
 "metadata": {
  "kernelspec": {
   "display_name": "Python 3 (ipykernel)",
   "language": "python",
   "name": "python3"
  },
  "language_info": {
   "codemirror_mode": {
    "name": "ipython",
    "version": 3
   },
   "file_extension": ".py",
   "mimetype": "text/x-python",
   "name": "python",
   "nbconvert_exporter": "python",
   "pygments_lexer": "ipython3",
   "version": "3.12.8"
  }
 },
 "nbformat": 4,
 "nbformat_minor": 5
}
