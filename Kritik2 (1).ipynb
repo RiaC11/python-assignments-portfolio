{
 "cells": [
  {
   "cell_type": "code",
   "execution_count": 2,
   "id": "e30fe6f0-e80b-4302-bb3b-69936c919959",
   "metadata": {},
   "outputs": [],
   "source": [
    "import numpy as np\n",
    "\n",
    "\n",
    "def roots (f, a, b): \n",
    "    #We mwant the interval to continue until it is small enough\n",
    "    while abs(b-a)>10**-10:\n",
    "        m=((a+b)/2)\n",
    "\n",
    "        if f(a)==0:\n",
    "            return f\"There is a root at {a}\"\n",
    "        elif f(b)==0:\n",
    "            return f\"There is a root at {b}\"\n",
    "\n",
    "        elif f(m)==0:\n",
    "            return f\"There is a root at {m}\"\n",
    "\n",
    "        if f(z)<=0<=f(m) or f(a)>=0>=f(m):\n",
    "            b=m\n",
    "        elif f(m)<=0<=f(b) or f(m)>=0>=f(b):\n",
    "            a=m\n",
    "        else:\n",
    "            return f\"There are no roots at the endpoints {a} or {b} and there are no roots within the interval\"\n",
    "\n",
    "    return f\"There is a root at {m: 10f}\"\n"
   ]
  },
  {
   "cell_type": "code",
   "execution_count": null,
   "id": "ae07f91a-729e-478d-8c46-d29b51294794",
   "metadata": {},
   "outputs": [],
   "source": [
    "def f(x):\n",
    "    return np.exp(x) + np.log(x)\n",
    "print(roots(f, 10**-20, 1))\n",
    "\n",
    "def g(x):\n",
    "    return np.arctan(x) - x**2\n",
    "print(roots(g,0, 2))\n",
    "\n",
    "def h(x):\n",
    "    return no.sin(x)/np\n",
    "\n"
   ]
  }
 ],
 "metadata": {
  "kernelspec": {
   "display_name": "Python 3 (ipykernel)",
   "language": "python",
   "name": "python3"
  },
  "language_info": {
   "codemirror_mode": {
    "name": "ipython",
    "version": 3
   },
   "file_extension": ".py",
   "mimetype": "text/x-python",
   "name": "python",
   "nbconvert_exporter": "python",
   "pygments_lexer": "ipython3",
   "version": "3.12.8"
  }
 },
 "nbformat": 4,
 "nbformat_minor": 5
}
