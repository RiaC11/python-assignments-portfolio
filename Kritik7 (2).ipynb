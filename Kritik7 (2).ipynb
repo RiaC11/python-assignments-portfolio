{
 "cells": [
  {
   "cell_type": "code",
   "execution_count": 18,
   "id": "bc13f741-4b54-4398-a98d-ef675d14b2d8",
   "metadata": {},
   "outputs": [
    {
     "name": "stdout",
     "output_type": "stream",
     "text": [
      "Ready to start\n"
     ]
    }
   ],
   "source": [
    "import numpy as np\n",
    "from scipy.special import gamma\n",
    "print(\"Ready to start\")"
   ]
  },
  {
   "cell_type": "code",
   "execution_count": 19,
   "id": "36925431-704f-433e-8eb7-8ceab4172503",
   "metadata": {},
   "outputs": [
    {
     "name": "stdout",
     "output_type": "stream",
     "text": [
      "The length of my-list is  10\n",
      "The sample's mean is 82.382\n",
      "The sample's standard deviation is 10.193467189005581\n"
     ]
    }
   ],
   "source": [
    "#Step 1:\n",
    "my_list=[92.64,79.00,84.79,97.41,93.68,65.23,84.50,73.49,73.97,79.11]\n",
    "n=len(my_list)\n",
    "print(\"The length of my-list is \", n)\n",
    "\n",
    "def findmean_standev(n):\n",
    "    #Find the sample mean\n",
    "    samplemean=sum(my_list)/n\n",
    "    print(\"The sample's mean is\", samplemean)\n",
    "    \n",
    "    #Find the standard deviation\n",
    "    yvalues=[]\n",
    "    for i in my_list:\n",
    "        y=(i-samplemean)**2\n",
    "        yvalues.append(y)\n",
    "        samplestandev=np.sqrt((1/(n-1))*np.sum(yvalues))\n",
    "    print(\"The sample's standard deviation is\", (samplestandev))\n",
    "\n",
    "findmean_standev(10)"
   ]
  },
  {
   "cell_type": "code",
   "execution_count": 20,
   "id": "b91cb893-fbcb-495d-afb2-5f4f8056c44a",
   "metadata": {},
   "outputs": [
    {
     "data": {
      "text/plain": [
       "2.290087686017293"
      ]
     },
     "execution_count": 20,
     "metadata": {},
     "output_type": "execute_result"
    }
   ],
   "source": [
    "#Step 2:\n",
    "\n",
    "\n",
    "def findingt0(samplemean, populationmean, samplestandev, n):\n",
    "    t0=(samplemean-populationmean)/(samplestandev/np.sqrt(n))\n",
    "    return t0\n",
    "\n",
    "findingt0(samplemean, 75, samplestandev, n) #only the populationmean is new for this step; it was provided in the question. The rest of the values were obtained from step 1."
   ]
  },
  {
   "cell_type": "code",
   "execution_count": 21,
   "id": "4cf88699-3d49-48c5-a79e-f24656ab47c5",
   "metadata": {},
   "outputs": [
    {
     "data": {
      "text/plain": [
       "2.2522252225222523"
      ]
     },
     "execution_count": 21,
     "metadata": {},
     "output_type": "execute_result"
    }
   ],
   "source": [
    "#Step 3:\n",
    "\n",
    "#We need to define the density function\n",
    "def t_distribution_pdf(x, nu):\n",
    "    coeff = gamma((nu + 1) / 2) / (np.sqrt(nu * np.pi) * gamma(nu / 2))\n",
    "    density = coeff * (1 + x**2 / nu) ** (-0.5 * (nu + 1))\n",
    "    return density\n",
    "\n",
    "\n",
    "#Then we need to find tstar\n",
    "def find_t_star(prob, nu, x_start=0, x_end=20, num_points=10000): \n",
    "    # Define the x values\n",
    "    x = np.linspace(x_start, x_end, num_points)\n",
    "\n",
    "    # Apply the density function to the x values \n",
    "    y = t_distribution_pdf(x, nu)\n",
    "\n",
    "    # This next line is the integration (exercise: why does this work?)\n",
    "    cdf = np.cumsum(y) * (x[1] - x[0])\n",
    "\n",
    "    # Find the t-value where the cumulative probability reaches half of the required probability\n",
    "    target_half_prob = prob / 2\n",
    "    index = np.where(cdf >= target_half_prob)[0][0]\n",
    "    return x[index]\n",
    "\n",
    "n=len(my_list)\n",
    "nu=n-1\n",
    "\n",
    "find_t_star(prob=0.95, nu=n-1, x_start=0, x_end=20, num_points=10000) #to match our work in steps 2 and 3, we'll use nu=n-1"
   ]
  },
  {
   "cell_type": "code",
   "execution_count": 22,
   "id": "84abe77e-2496-4df4-a152-29738fd44bc3",
   "metadata": {},
   "outputs": [
    {
     "name": "stdout",
     "output_type": "stream",
     "text": [
      "False\n"
     ]
    }
   ],
   "source": [
    "#Step 4:\n",
    "\n",
    "def t_checker(t0, t_star):\n",
    "    if t0>-t_star and t0<t_star:\n",
    "        print(\"True\")\n",
    "    else:\n",
    "        print(\"False\")\n",
    "\n",
    "t0=findingt0(samplemean, 75, samplestandev, n)\n",
    "t_star=find_t_star(prob=0.95, nu=n-1, x_start=0, x_end=20, num_points=10000)\n",
    "\n",
    "t_checker(t0, t_star)"
   ]
  },
  {
   "cell_type": "code",
   "execution_count": 23,
   "id": "b606b6c5-ffba-4dcd-b437-14768bdcd393",
   "metadata": {},
   "outputs": [],
   "source": [
    "#Step 5:\n",
    "\n",
    "#There is statistical evidence to reject the null hypothesis and \n",
    "#we can conclude that μ does not equal 75. \n",
    "#Since t0 is in the rightmost part of the t distribution, greater than +t_star, then the new test is beneficial to students. "
   ]
  },
  {
   "cell_type": "code",
   "execution_count": null,
   "id": "1fb9ead9-41ad-4c4b-b566-cba73548fc19",
   "metadata": {},
   "outputs": [],
   "source": []
  }
 ],
 "metadata": {
  "kernelspec": {
   "display_name": "Python 3 (ipykernel)",
   "language": "python",
   "name": "python3"
  },
  "language_info": {
   "codemirror_mode": {
    "name": "ipython",
    "version": 3
   },
   "file_extension": ".py",
   "mimetype": "text/x-python",
   "name": "python",
   "nbconvert_exporter": "python",
   "pygments_lexer": "ipython3",
   "version": "3.12.8"
  }
 },
 "nbformat": 4,
 "nbformat_minor": 5
}
