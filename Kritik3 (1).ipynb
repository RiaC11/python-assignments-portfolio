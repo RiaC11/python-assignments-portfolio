{
 "cells": [
  {
   "cell_type": "code",
   "execution_count": 25,
   "id": "ba1767ce-bb26-48dc-a438-6221ade70264",
   "metadata": {},
   "outputs": [
    {
     "name": "stdout",
     "output_type": "stream",
     "text": [
      "x1 is 0.7853981433974482\n",
      "x2 is 0.7853981833974484\n",
      "The error between the function and its linear approximation is 0.05\n"
     ]
    }
   ],
   "source": [
    "import numpy as np\n",
    "f=lambda x: np.sin(x)\n",
    "c=np.pi/4\n",
    "E=0.05\n",
    "\n",
    "change_x=10**-8\n",
    "\n",
    "#Type out the given equation\n",
    "def deriv(x):\n",
    "    return(f(c+change_x) - (c-change_x))/(2*change_x)\n",
    "\n",
    "#Type out the given equation\n",
    "def lin(x):\n",
    "    return f(c) + deriv(c)*(x-c)\n",
    "\n",
    "#Begin with these x values close to c\n",
    "x1=c-change_x\n",
    "x2=c+change_x\n",
    "\n",
    "#Determine x1\n",
    "if abs(f(x1) - lin(x1)) < E or abs(f(x1) - lin(x1)) > E:\n",
    "    x1 -=change_x\n",
    "    print(f\"x1 is {x1}\")\n",
    "else:\n",
    "    print(\"x1 is not in the range\")\n",
    "\n",
    "#Determine x2\n",
    "if abs(f(x2) - lin(x2)) < E or abs(f(x2) - lin(x2)) > E:\n",
    "    x2 +=change_x\n",
    "    print(f\"x2 is {x2}\")\n",
    "else:\n",
    "    print(\"x2 is not in the range\")\n",
    "\n",
    "print(f\"The error between the function and its linear approximation is {E}\")"
   ]
  },
  {
   "cell_type": "code",
   "execution_count": 9,
   "id": "41b252cf-e2e5-4d1a-8875-d5aceafceef1",
   "metadata": {},
   "outputs": [
    {
     "name": "stdout",
     "output_type": "stream",
     "text": [
      "(0.9499999998349044, 1.0500000001650958, 'The value of E is 0.1')\n"
     ]
    }
   ],
   "source": [
    "import numpy as np\n",
    "def f(x):\n",
    "    return x**2\n",
    "def g(x):\n",
    "    return np.sin(x)\n",
    "def h(x):\n",
    "    return np.exp(x)\n",
    "\n",
    "def lin(function, c, E):\n",
    "    changex=10**-8\n",
    "    deriv = (function(c+changex) - function(c-changex))/(2*changex)\n",
    "    shift = E/abs(deriv)\n",
    "    x1=c-shift\n",
    "    x2=c+shift\n",
    "    while abs(function(x1) - function(c) - (deriv*(x1-c))) > E:\n",
    "        x1=x1-changex\n",
    "    while abs(function(x2) - function(c) - (deriv*(x2-c))) > E:\n",
    "        x2=x2+changex\n",
    "    return (x1), (x2), (f\"The value of E is {E}\")\n",
    "\n",
    "print(lin(f, 1, 0.1))\n",
    "    "
   ]
  },
  {
   "cell_type": "code",
   "execution_count": 14,
   "id": "3b0cbd2a-b78d-4019-b70b-9ae009cae67c",
   "metadata": {},
   "outputs": [
    {
     "name": "stdout",
     "output_type": "stream",
     "text": [
      "(0.9499999998349044, 1.0500000001650958, 'The value of E is 0.1')\n",
      "(0.7146874855838188, 0.8561088412110778, 'The value of E is 0.05')\n",
      "(-0.01000000006077471, 0.01000000006077471, 'The value of E is 0.01')\n"
     ]
    }
   ],
   "source": [
    "import numpy as np\n",
    "\n",
    "#define the given test cases\n",
    "def f(x):\n",
    "    return x**2\n",
    "def g(x):\n",
    "    return np.sin(x)\n",
    "def h(x):\n",
    "    return np.exp(x)\n",
    "\n",
    "#create the linear approximation function\n",
    "def lin(function, c, E, tolerance=1):\n",
    "    changex = 10**-8\n",
    "    deriv = (function(c + changex) - function(c - changex)) / (2 * changex)\n",
    "    shift = E / abs(deriv)\n",
    "    x1 = c - shift\n",
    "    x2 = c + shift\n",
    "    max_iters = 1000000  #Set a maximum number of iterations to avoid infinite loops \n",
    "    iters = 0 \n",
    "    #this will ensure that if x1 and x2 are not found within a reasonable range, the output will be \"could not be found\"\n",
    "\n",
    "    while abs(function(x1) - function(c) - (deriv * (x1 - c))) > E:\n",
    "        x1 -= changex\n",
    "        iters += 1 #Increase the iters number after every iteration of the loop\n",
    "        if abs(x1 - c) > tolerance or iters > max_iters:\n",
    "            print(\"could not be found\")\n",
    "            return None, None, f\"The value of E is {E}\"\n",
    "\n",
    "    iters = 0  #Reset the counter for x2\n",
    "    while abs(function(x2) - function(c) - (deriv * (x2 - c))) > E:\n",
    "        x2 += changex\n",
    "        iters += 1\n",
    "        if abs(x2 - c) > tolerance or iters > max_iters:\n",
    "            print(\"could not be found\")\n",
    "            return None, None, f\"The value of E is {E}\"\n",
    "\n",
    "    return x1, x2, f\"The value of E is {E}\"\n",
    "\n",
    "# Testing with the functions f, g, and h\n",
    "print(lin(f, 1, 0.1))\n",
    "print(lin(g, np.pi/4, 0.05))  \n",
    "print(lin(h, 0, 0.01))"
   ]
  },
  {
   "cell_type": "code",
   "execution_count": null,
   "id": "17e1c4c3-3c0a-4465-a2e2-e2902e350ff8",
   "metadata": {},
   "outputs": [],
   "source": []
  }
 ],
 "metadata": {
  "kernelspec": {
   "display_name": "Python 3 (ipykernel)",
   "language": "python",
   "name": "python3"
  },
  "language_info": {
   "codemirror_mode": {
    "name": "ipython",
    "version": 3
   },
   "file_extension": ".py",
   "mimetype": "text/x-python",
   "name": "python",
   "nbconvert_exporter": "python",
   "pygments_lexer": "ipython3",
   "version": "3.12.8"
  }
 },
 "nbformat": 4,
 "nbformat_minor": 5
}
